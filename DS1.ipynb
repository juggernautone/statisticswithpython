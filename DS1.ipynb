{
 "cells": [
  {
   "cell_type": "markdown",
   "metadata": {},
   "source": [
    "# Topic 1.  Descriptive Statistics\n",
    "\n",
    "- Data Types\n",
    "- Visualization\n",
    "- Measures "
   ]
  },
  {
   "cell_type": "markdown",
   "metadata": {},
   "source": [
    "In this topic we will discuss how to preprocess data, by which we can find main features of the data  to make it well prepared for further analysis, i.e. **classification**, **regression** and **clusterting**.  In the business world, descriptive statistics provides a useful summary of many types of data. For example, investors and brokers may use  return behavior by performing empirical and analytical analyses on their investments in order to make better investing decisions in the future. Based on how many variables involved, we have \n",
    "\n",
    "- **Univariate analysis**\n",
    "- **Bivariate analysis** "
   ]
  },
  {
   "cell_type": "markdown",
   "metadata": {},
   "source": [
    "##1.1  Data Types\n",
    "\n"
   ]
  },
  {
   "cell_type": "markdown",
   "metadata": {},
   "source": [
    "### Population and Sample\n",
    "The  study of statistics revolves around the study of data sets. This lesson describes two important types of data sets - populations and samples.\n",
    "\n",
    "- A **population** includes all of the elements from a set of data.\n",
    "\n",
    "- **sample** consists of one or more observations from the population.\n",
    "\n",
    "<img src=\"pic/population.png\">"
   ]
  },
  {
   "cell_type": "markdown",
   "metadata": {},
   "source": [
    "- When a population element can be selected more than one time, we are **sampling with replacement**.\n",
    "- When a population element can be selected only one time, we are **sampling without replacement**."
   ]
  },
  {
   "cell_type": "code",
   "execution_count": 73,
   "metadata": {
    "collapsed": false,
    "scrolled": true
   },
   "outputs": [
    {
     "name": "stdout",
     "output_type": "stream",
     "text": [
      "22\n"
     ]
    }
   ],
   "source": [
    "Population=[43, 56,78,90,100,200,50,67,100,120,60,70,100,90,56,69,78,45,67,54,34,60] # The weights(in kg) of targeted group of people.\n",
    "# We take a sample \n",
    "import random\n",
    "\n",
    "print len(Population)\n",
    "sampleSize=16\n",
    "sample1=random.sample(Population, sampleSize)\n",
    "sample2=random.sample(Population, sampleSize)\n",
    "\n"
   ]
  },
  {
   "cell_type": "code",
   "execution_count": 74,
   "metadata": {
    "collapsed": false
   },
   "outputs": [],
   "source": [
    "import matplotlib.pyplot as plt"
   ]
  },
  {
   "cell_type": "code",
   "execution_count": 75,
   "metadata": {
    "collapsed": false
   },
   "outputs": [
    {
     "data": {
      "text/plain": [
       "(array([ 4.,  0.,  0.,  3.,  0.,  0.,  0.,  0.,  0.,  1.]),\n",
       " array([  56. ,   70.4,   84.8,   99.2,  113.6,  128. ,  142.4,  156.8,\n",
       "         171.2,  185.6,  200. ]),\n",
       " <a list of 10 Patch objects>)"
      ]
     },
     "execution_count": 75,
     "metadata": {},
     "output_type": "execute_result"
    },
    {
     "data": {
      "image/png": "[encoded data removed]",
      "text/plain": [
       "<matplotlib.figure.Figure at 0x7f06587d5d10>"
      ]
     },
     "metadata": {},
     "output_type": "display_data"
    }
   ],
   "source": [
    "randomSample=random.sample(Population, 8)\n",
    "plt.hist(randomSample)"
   ]
  },
  {
   "cell_type": "code",
   "execution_count": 76,
   "metadata": {
    "collapsed": true
   },
   "outputs": [],
   "source": [
    "observeSample=random.sample(Population, 8)"
   ]
  },
  {
   "cell_type": "code",
   "execution_count": 52,
   "metadata": {
    "collapsed": false
   },
   "outputs": [
    {
     "data": {
      "text/plain": [
       "(array([ 1.,  1.,  2.,  1.,  0.,  0.,  1.,  1.,  0.,  1.]),\n",
       " array([  45. ,   52.5,   60. ,   67.5,   75. ,   82.5,   90. ,   97.5,\n",
       "         105. ,  112.5,  120. ]),\n",
       " <a list of 10 Patch objects>)"
      ]
     },
     "execution_count": 52,
     "metadata": {},
     "output_type": "execute_result"
    },
    {
     "data": {
      "image/png": "[encoded data removed]",
      "text/plain": [
       "<matplotlib.figure.Figure at 0x7f0658908610>"
      ]
     },
     "metadata": {},
     "output_type": "display_data"
    }
   ],
   "source": [
    "plt.hist(observeSample)"
   ]
  },
  {
   "cell_type": "code",
   "execution_count": null,
   "metadata": {
    "collapsed": false
   },
   "outputs": [],
   "source": [
    "print sample1, sample2\n",
    "%matplotlib inline\n",
    "import matplotlib.pyplot as plt\n",
    "plt.figure(figsize=(30,10))\n",
    "plt.subplot(2,1,1)\n",
    "plt.title('Sample 1',fontsize=16)\n",
    "plt.hist(sample1)\n",
    "plt.ylabel('frequency',fontsize=12)\n",
    "plt.xlabel('values',fontsize=12)\n",
    "plt.subplot(2,1,2)\n",
    "plt.hist(sample2)\n",
    "plt.show()"
   ]
  },
  {
   "cell_type": "markdown",
   "metadata": {},
   "source": [
    "**random.sample is sample without replacement **. How to do sample with replacement? we need to make function by our own. "
   ]
  },
  {
   "cell_type": "code",
   "execution_count": 77,
   "metadata": {
    "collapsed": false
   },
   "outputs": [],
   "source": [
    "#This is only for reference and will not be tested. \n",
    "def sample_wr(population, k):\n",
    "    \"Chooses k random elements (with replacement) from a population\"\n",
    "    n = len(population)\n",
    "    _random, _int = random.random, int  # speed hack\n",
    "    return [_int(_random() * n) for i in xrange(k)]"
   ]
  },
  {
   "cell_type": "code",
   "execution_count": 78,
   "metadata": {
    "collapsed": false
   },
   "outputs": [],
   "source": [
    "import random\n",
    "def sample_wr_isom(population, k):\n",
    "    sample=[]\n",
    "    n=len(population)\n",
    "    for i in xrange(k):\n",
    "        sample.append(population[random.randint(0, n-1)])\n",
    "    return sample"
   ]
  },
  {
   "cell_type": "code",
   "execution_count": 79,
   "metadata": {
    "collapsed": false
   },
   "outputs": [
    {
     "name": "stdout",
     "output_type": "stream",
     "text": [
      "0.0060019493103\n",
      "0.0288491249084\n"
     ]
    }
   ],
   "source": [
    "import time\n",
    "t1=time.time()\n",
    "A=sample_wr(Population,10000)\n",
    "t2=time.time()\n",
    "print t2-t1\n",
    "t3=time.time()\n",
    "A=sample_wr_isom(Population,10000)\n",
    "t4=time.time()\n",
    "print t4-t3"
   ]
  },
  {
   "cell_type": "code",
   "execution_count": null,
   "metadata": {
    "collapsed": false
   },
   "outputs": [],
   "source": [
    "%timeit sample_wr(Population,10000)\n",
    "%timeit sample_wr_isom(Population,10000)\n",
    "                "
   ]
  },
  {
   "cell_type": "markdown",
   "metadata": {},
   "source": [
    "###Parameter and Statistic \n",
    "-  a measurable characteristic of a population, such as a mean or standard deviation, is called a parameter; \n",
    "-  a measurable characteristic of a sample is called a statistic.\n",
    "-  parameter $$\\mu=\\sum_{i=1}^N x_i, ~~\\sigma^2=\\frac{\\sum_{i=1}^N(x_i-\\mu)^2}{N}$$\n",
    "-  statistic $$\\bar{x}=\\sum_{i=1}^n x_i, ~~s^2=\\frac{\\sum_{i=1}^n(x_i-\\bar{x})^2}{n-1}$$"
   ]
  },
  {
   "cell_type": "code",
   "execution_count": null,
   "metadata": {
    "collapsed": false
   },
   "outputs": [],
   "source": [
    "import numpy as np\n",
    "array1=np.array(sample1)\n",
    "array2=np.array(sample2)\n",
    "print array1.mean(), array2.mean()\n",
    "print array1.std(),array2.std()"
   ]
  },
  {
   "cell_type": "code",
   "execution_count": null,
   "metadata": {
    "collapsed": false
   },
   "outputs": [],
   "source": [
    "print array1.std(ddof=1),array2.std(ddof=1)"
   ]
  },
  {
   "cell_type": "code",
   "execution_count": null,
   "metadata": {
    "collapsed": false
   },
   "outputs": [],
   "source": [
    "import pandas as pd\n",
    "series1=pd.Series(array1)\n",
    "print series1.describe()"
   ]
  },
  {
   "cell_type": "markdown",
   "metadata": {},
   "source": [
    "### Sample and observation\n",
    "- sample is random \n",
    "- every experiment generate one specific sample data, which is called **an observation** "
   ]
  },
  {
   "cell_type": "code",
   "execution_count": null,
   "metadata": {
    "collapsed": false
   },
   "outputs": [],
   "source": [
    "#my observation of sample with sample size 10\n",
    "random.sample(Population,10)"
   ]
  },
  {
   "cell_type": "markdown",
   "metadata": {},
   "source": [
    "### Variable and Sample  with Replacement\n",
    "Consider PRC, the percentage of male citizen is $53\\%$. If randomly select an individial, the sex gender is a random variable , we denote it as $G$.  "
   ]
  },
  {
   "cell_type": "code",
   "execution_count": 67,
   "metadata": {
    "collapsed": false
   },
   "outputs": [
    {
     "name": "stdout",
     "output_type": "stream",
     "text": [
      "['Male', 'Male', 'Male', 'Male', 'Male', 'Male', 'Male', 'Male', 'Male', 'Male', 'Male', 'Male', 'Male', 'Male', 'Male', 'Male', 'Male', 'Male', 'Male', 'Male', 'Male', 'Male', 'Male', 'Male', 'Male', 'Male', 'Male', 'Male', 'Male', 'Male', 'Male', 'Male', 'Male', 'Male', 'Male', 'Male', 'Male', 'Male', 'Male', 'Male', 'Male', 'Male', 'Male', 'Male', 'Male', 'Male', 'Male', 'Male', 'Male', 'Male', 'Male', 'Male', 'Male', 'Female', 'Female', 'Female', 'Female', 'Female', 'Female', 'Female', 'Female', 'Female', 'Female', 'Female', 'Female', 'Female', 'Female', 'Female', 'Female', 'Female', 'Female', 'Female', 'Female', 'Female', 'Female', 'Female', 'Female', 'Female', 'Female', 'Female', 'Female', 'Female', 'Female', 'Female', 'Female', 'Female', 'Female', 'Female', 'Female', 'Female', 'Female', 'Female', 'Female', 'Female', 'Female', 'Female', 'Female', 'Female', 'Female', 'Female']\n",
      "100\n"
     ]
    }
   ],
   "source": [
    "# Build population. It is impossible to build a population with 1.3 Billion individuals. \n",
    "#Instead, we mimic the Chinese Population using 53 males and 47 females\n",
    "\n",
    "Population=[]\n",
    "MalePop=['Male']*53\n",
    "#print MalePop\n",
    "FemalePop=['Female']*47\n",
    "Population.extend(MalePop)\n",
    "Population.extend(FemalePop)\n",
    "print Population\n",
    "print len(Population)"
   ]
  },
  {
   "cell_type": "code",
   "execution_count": 71,
   "metadata": {
    "collapsed": false
   },
   "outputs": [
    {
     "name": "stdout",
     "output_type": "stream",
     "text": [
      "4\n"
     ]
    }
   ],
   "source": [
    "A=[1,2,3,4]\n",
    "print A[3]"
   ]
  },
  {
   "cell_type": "code",
   "execution_count": 72,
   "metadata": {
    "collapsed": false
   },
   "outputs": [
    {
     "name": "stdout",
     "output_type": "stream",
     "text": [
      "Female\n"
     ]
    }
   ],
   "source": [
    "G1=Population[random.randint(0, 99)]\n",
    "print G1"
   ]
  },
  {
   "cell_type": "markdown",
   "metadata": {},
   "source": [
    "-  A Sample with Replacement (sample size $= n$) is the same as  n variables from the same population\n",
    "-  n obervation of n variables consist an observation of a random sample."
   ]
  },
  {
   "cell_type": "markdown",
   "metadata": {
    "collapsed": true
   },
   "source": [
    "### Types of Variables and Data\n",
    "- Data: observed sample"
   ]
  },
  {
   "cell_type": "markdown",
   "metadata": {},
   "source": [
    "- **Categorical Variable(Data)**:A categorical variable (sometimes called a nominal variable) is one that has two or more categories, but there is no intrinsic ordering to the categories. \n",
    " \n",
    "- **Numerical variable(Data)**: A variable who value can be ordered. \n",
    "    - discrete : shoe size 1,2,3,4,5,6,\n",
    "    - continuous: feet size\n",
    "\n",
    "**Remark**: In some reference book, categorical variables are further grouped: nominal and ordinal variables , which may mislead readers. It is hard to distinguish ordinal and discrete random variables(**r.v. **)"
   ]
  }
 ],
 "metadata": {
  "kernelspec": {
   "display_name": "Python 2",
   "language": "python",
   "name": "python2"
  },
  "language_info": {
   "codemirror_mode": {
    "name": "ipython",
    "version": 2
   },
   "file_extension": ".py",
   "mimetype": "text/x-python",
   "name": "python",
   "nbconvert_exporter": "python",
   "pygments_lexer": "ipython2",
   "version": "2.7.10"
  }
 },
 "nbformat": 4,
 "nbformat_minor": 0
}
