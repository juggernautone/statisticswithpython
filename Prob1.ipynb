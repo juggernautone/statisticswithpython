{
 "cells": [
  {
   "cell_type": "markdown",
   "metadata": {},
   "source": [
    "# Topic 2.  Probability , Distribution and  Random Variable\n",
    "\n",
    "## 2.1 Probability\n",
    "\n",
    "**Probability is a measure of the likelihood that an event  will happen**\n",
    "\n"
   ]
  },
  {
   "cell_type": "markdown",
   "metadata": {},
   "source": [
    "- P(A)\n",
    "- takes values in $[0,1]$\n",
    "- when $P(A)\\rightarrow 1$, even $A$ is more likely to occur"
   ]
  },
  {
   "cell_type": "markdown",
   "metadata": {
    "collapsed": false
   },
   "source": [
    "**Mutually Exclusive**:\n",
    "Events are mutually exclusive if the  occurrence of any one event means that none of the others can occur at the same time. \n",
    "\n",
    "- P(A and B)=0\n",
    "- P(A or B)=P(A)+P(B)"
   ]
  },
  {
   "cell_type": "markdown",
   "metadata": {},
   "source": [
    "**Independent**:Events are independent if the occurrence of one event does not affect the occurrence of another.\n",
    "\n",
    "- P(A and B)=P(A)P(B)\n",
    "<img src=\"http://ihome.ust.hk/~imwan/index_files/pic/contingency.png\">"
   ]
  },
  {
   "cell_type": "markdown",
   "metadata": {},
   "source": [
    "## 2 Distribution and Random Variable\n",
    "<img src=\"http://ihome.ust.hk/~imwan/index_files/pic/pic1.png\">\n",
    "<img src=\"http://ihome.ust.hk/~imwan/index_files/pic/pic2.png\">\n"
   ]
  },
  {
   "cell_type": "markdown",
   "metadata": {},
   "source": [
    "### 2.2.1 Distribution, Expectation and Variance \n",
    "- Distribution is a table including all possible values of a random variable and corresponding probabilities \n",
    "<img src=\"http://ihome.ust.hk/~imwan/index_files/pic/pic3.png\">\n",
    "\n",
    "\n",
    "\n",
    "\n"
   ]
  },
  {
   "cell_type": "markdown",
   "metadata": {},
   "source": [
    "- Expectation of a random variable (r.v.)\n",
    "\n",
    "Consider stock A’ price of  tomorrow  has the possibility $10\\%$ to become \\$120 and also it has the possibility  $90\\%$ to become 80. Let define $P_2$ as the price of the second day. Find the distribution.\n",
    "\n",
    "|possible value|probability|\n",
    "|--|--|\n",
    "|\t120|\t0.1|\n",
    "|80\t|0.9|\n",
    "\n",
    "\n",
    "<img src=\"http://ihome.ust.hk/~imwan/index_files/pic/pic4.png\">\n",
    "\n",
    "$$\\mu=\\frac{10*120+90*80}{100}=0.1*120+0.9*80$$"
   ]
  },
  {
   "cell_type": "markdown",
   "metadata": {},
   "source": [
    "$$\\mu_{X}~or~E(X)=\\sum_{i=1}^Kp_kx_k$$"
   ]
  },
  {
   "cell_type": "code",
   "execution_count": 8,
   "metadata": {
    "collapsed": false
   },
   "outputs": [
    {
     "data": {
      "text/plain": [
       "1.1690451944500122"
      ]
     },
     "execution_count": 8,
     "metadata": {},
     "output_type": "execute_result"
    }
   ],
   "source": [
    "import numpy as np\n",
    "data=np.array([2,3,4,5,4,5])\n",
    "data.mean()\n",
    "data.std(ddof=1)"
   ]
  },
  {
   "cell_type": "code",
   "execution_count": 18,
   "metadata": {
    "collapsed": false,
    "scrolled": true
   },
   "outputs": [
    {
     "name": "stdout",
     "output_type": "stream",
     "text": [
      "2.5\n",
      "1.25\n",
      "1.11803398875\n"
     ]
    }
   ],
   "source": [
    "x=np.array([1,2,3,4])\n",
    "p=np.array([0.25,0.25,0.25,0.25])\n",
    "\n",
    "\n",
    "def expect(x0,p0):\n",
    "    return  (x0*p0).sum()\n",
    "\n",
    "def Var(x0,p0):\n",
    "    return  ((x0-expect(x0,p0))**2*p0).sum() \n",
    "\n",
    "def STD(x0,p0):\n",
    "    return np.sqrt(Var(x0,p0))\n",
    "\n",
    "\n",
    "\n",
    "print expect(x,p)\n",
    "print Var(x,p)\n",
    "print STD(x,p)"
   ]
  },
  {
   "cell_type": "markdown",
   "metadata": {},
   "source": [
    "- Variance of a random variable"
   ]
  },
  {
   "cell_type": "markdown",
   "metadata": {},
   "source": [
    "$$\\sigma_X^2~or~Var(X)=\\sum_{i=1}^Kp_k(x_k-\\mu_X)^2$$"
   ]
  }
 ],
 "metadata": {
  "kernelspec": {
   "display_name": "Python 2",
   "language": "python",
   "name": "python2"
  },
  "language_info": {
   "codemirror_mode": {
    "name": "ipython",
    "version": 2
   },
   "file_extension": ".py",
   "mimetype": "text/x-python",
   "name": "python",
   "nbconvert_exporter": "python",
   "pygments_lexer": "ipython2",
   "version": "2.7.10"
  }
 },
 "nbformat": 4,
 "nbformat_minor": 0
}
