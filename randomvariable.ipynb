{
 "cells": [
  {
   "cell_type": "markdown",
   "metadata": {},
   "source": [
    "# 3.1 Discrete Uniform Random Variable\n",
    "\n",
    "- A Variable take finite possible values equally likely \n",
    "\n",
    "- numpy.random.randint(low, high=None, size=None): Return random integers from low (inclusive) to high (exclusive).\n",
    "\n",
    "- low :Lowest (signed) integer to be drawn from the distribution (unless high=None, in which case this parameter is the highest such integer)."
   ]
  },
  {
   "cell_type": "code",
   "execution_count": 38,
   "metadata": {
    "collapsed": true
   },
   "outputs": [],
   "source": [
    "import numpy as np\n",
    "import matplotlib.pyplot as plt\n",
    "import pandas as pd\n",
    "%matplotlib inline"
   ]
  },
  {
   "cell_type": "code",
   "execution_count": 39,
   "metadata": {
    "collapsed": false
   },
   "outputs": [
    {
     "data": {
      "text/plain": [
       "Int64Index([9, 4, 8, 2, 3, 7, 6, 5], dtype='int64')"
      ]
     },
     "execution_count": 39,
     "metadata": {},
     "output_type": "execute_result"
    }
   ],
   "source": [
    "number=10000000# define how many numbers we should draw from the population\n",
    "A=pd.Series(np.random.randint(2,10,size=number))\n",
    "A.value_counts().index"
   ]
  },
  {
   "cell_type": "code",
   "execution_count": 40,
   "metadata": {
    "collapsed": false
   },
   "outputs": [
    {
     "name": "stdout",
     "output_type": "stream",
     "text": [
      "[8 3 7 1 2 6 5 4]\n"
     ]
    },
    {
     "data": {
      "text/plain": [
       "([<matplotlib.axis.XTick at 0x7f121163de50>,\n",
       "  <matplotlib.axis.XTick at 0x7f121163d6d0>,\n",
       "  <matplotlib.axis.XTick at 0x7f1211599910>,\n",
       "  <matplotlib.axis.XTick at 0x7f12115cc550>,\n",
       "  <matplotlib.axis.XTick at 0x7f12115ccc90>,\n",
       "  <matplotlib.axis.XTick at 0x7f12115d7410>,\n",
       "  <matplotlib.axis.XTick at 0x7f12115d7b50>,\n",
       "  <matplotlib.axis.XTick at 0x7f12115612d0>],\n",
       " <a list of 8 Text xticklabel objects>)"
      ]
     },
     "execution_count": 40,
     "metadata": {},
     "output_type": "execute_result"
    },
    {
     "data": {
      "image/png": "[encoded data removed]",
      "text/plain": [
       "<matplotlib.figure.Figure at 0x7f1212132510>"
      ]
     },
     "metadata": {},
     "output_type": "display_data"
    }
   ],
   "source": [
    "xticks=A.value_counts().index\n",
    "x=np.array(xticks)-1#, with \"-1\", x take values [1,2,3,4,5,6,7,8], which is left end point of each bar. \n",
    "print x\n",
    "width=1\n",
    "y=A.value_counts().values/float(number) # without \"/number\", y is frequency; with\"/number\", y is relative frequency. \n",
    "ybarchart=plt.bar(x,y,width,color='r')\n",
    "plt.xlim(0,10) #I add this line to define the range of x-axis. \n",
    "plt.xticks(x+0.5*width, xticks)"
   ]
  },
  {
   "cell_type": "markdown",
   "metadata": {},
   "source": []
  },
  {
   "cell_type": "markdown",
   "metadata": {},
   "source": [
    "# 3.2 Continuous Uniform Random Variable\n",
    "\n",
    "- A Variable taking possible values in $[a,b]$ equally likely \n",
    "- numpy.random.uniform(low=0.0, high=1.0, size=None): (includes low, but excludes high). \n"
   ]
  },
  {
   "cell_type": "code",
   "execution_count": 41,
   "metadata": {
    "collapsed": false
   },
   "outputs": [
    {
     "name": "stdout",
     "output_type": "stream",
     "text": [
      "[ 4.43064184  2.96236655  3.0918453  ...,  3.22076722  2.82933911\n",
      "  4.00199309]\n"
     ]
    }
   ],
   "source": [
    "A=np.random.uniform(low=2.0,high=5.0,size=100000000)\n",
    "print A"
   ]
  },
  {
   "cell_type": "code",
   "execution_count": 5,
   "metadata": {
    "collapsed": false
   },
   "outputs": [
    {
     "data": {
      "text/plain": [
       "(0, 0.5)"
      ]
     },
     "execution_count": 5,
     "metadata": {},
     "output_type": "execute_result"
    },
    {
     "data": {
      "image/png": "[encoded data removed]",
      "text/plain": [
       "<matplotlib.figure.Figure at 0x7f125295c810>"
      ]
     },
     "metadata": {},
     "output_type": "display_data"
    }
   ],
   "source": [
    "count, bins, ignored = plt.hist(A, 100, normed=True)\n",
    "\n",
    "#print bins\n",
    "#print count\n",
    "plt.plot(bins, 0.3333*np.ones_like(bins), linewidth=4, color='r')\n",
    "plt.ylim(0,0.5)"
   ]
  },
  {
   "cell_type": "markdown",
   "metadata": {},
   "source": [
    "**Probability Density function (pdf)**\n",
    "\n",
    "**Cumulative Density function (cdf)**: $cdf(0.5)=P(X\\le 0.5)$"
   ]
  },
  {
   "cell_type": "markdown",
   "metadata": {},
   "source": [
    "Compute $P(2.5<x<2.9)$"
   ]
  },
  {
   "cell_type": "code",
   "execution_count": 6,
   "metadata": {
    "collapsed": false
   },
   "outputs": [
    {
     "name": "stdout",
     "output_type": "stream",
     "text": [
      "prob is equal to  0.13333332\n"
     ]
    }
   ],
   "source": [
    "height=0.3333333\n",
    "width=2.9-2.5\n",
    "print \"prob is equal to \", height*width"
   ]
  },
  {
   "cell_type": "code",
   "execution_count": 7,
   "metadata": {
    "collapsed": false
   },
   "outputs": [
    {
     "data": {
      "text/plain": [
       "0.3333333333333333"
      ]
     },
     "execution_count": 7,
     "metadata": {},
     "output_type": "execute_result"
    }
   ],
   "source": [
    "1.0/(5-2)"
   ]
  },
  {
   "cell_type": "markdown",
   "metadata": {},
   "source": [
    "## Area and Probability\n",
    "As opposed to the discrete random variables, continuous random variables represent draws from a population of values so dense that it is easier to model the shape of population by a smooth  continuous functions. \n",
    "<img src=\"http://static.pythontrade.com/public/PIC/ISOM2500/distribution/conrv.PNG\">\n",
    "\n",
    "- The blue-colored area under the probability curve f(x) from the value x = a to x = b is the probability that x could take any value in the range a to b\n",
    "- Symbolized as $P(a\\le x\\le b)$ , Or as $P(a < x < b)$, because each of the interval endpoints has a probability of 0\n",
    "\n"
   ]
  },
  {
   "cell_type": "markdown",
   "metadata": {},
   "source": [
    "# 3.3 Normal Random Variable"
   ]
  },
  {
   "cell_type": "markdown",
   "metadata": {},
   "source": [
    "**Normal Random variable X:** value drawn randomly from normal  population with mean equal $\\mu$ and variance equal to $\\sigma^2$ \n",
    "<img src=\"http://static.pythontrade.com/public/PIC/ISOM2500/distribution/normg.PNG\">\n"
   ]
  },
  {
   "cell_type": "markdown",
   "metadata": {},
   "source": [
    "**Probability density function:**<img src=\"http://static.pythontrade.com/public/PIC/ISOM2500/distribution/normfunc.PNG\">"
   ]
  },
  {
   "cell_type": "markdown",
   "metadata": {},
   "source": [
    "- numpy.random.normal(loc=0.0, scale=1.0, size=None)"
   ]
  },
  {
   "cell_type": "code",
   "execution_count": 59,
   "metadata": {
    "collapsed": false
   },
   "outputs": [
    {
     "data": {
      "image/png": "[encoded data removed]",
      "text/plain": [
       "<matplotlib.figure.Figure at 0x7f1219d21590>"
      ]
     },
     "metadata": {},
     "output_type": "display_data"
    }
   ],
   "source": [
    "A= np.random.normal(10,20,size=100000000)\n",
    "plt.figure()\n",
    "A_hist=plt.hist(A,bins=100,normed=True)"
   ]
  },
  {
   "cell_type": "code",
   "execution_count": 47,
   "metadata": {
    "collapsed": false
   },
   "outputs": [
    {
     "data": {
      "image/png": "[encoded data removed]",
      "text/plain": [
       "<matplotlib.figure.Figure at 0x7f1211470110>"
      ]
     },
     "metadata": {},
     "output_type": "display_data"
    }
   ],
   "source": [
    "A10_hist=plt.hist(A-10,bins=100,normed=True)"
   ]
  },
  {
   "cell_type": "code",
   "execution_count": 60,
   "metadata": {
    "collapsed": false
   },
   "outputs": [
    {
     "data": {
      "text/plain": [
       "(-150, 150)"
      ]
     },
     "execution_count": 60,
     "metadata": {},
     "output_type": "execute_result"
    },
    {
     "data": {
      "image/png": "[encoded data removed]",
      "text/plain": [
       "<matplotlib.figure.Figure at 0x7f1210ffb090>"
      ]
     },
     "metadata": {},
     "output_type": "display_data"
    }
   ],
   "source": [
    "plt.subplot(3,1,1)\n",
    "plt.hist(A,bins=100,normed=True)\n",
    "plt.xlim(-150,150)\n",
    "plt.subplot(3,1,2)\n",
    "plt.hist(A-10,bins=100,normed=True)\n",
    "plt.subplot(3,1,3)\n",
    "plt.hist((A-10)/20,bins=100,normed=True)\n",
    "plt.xlim(-150,150)"
   ]
  },
  {
   "cell_type": "markdown",
   "metadata": {},
   "source": [
    "**Standard Normal Random Variable and standardization**\n",
    "\n",
    "<img src=\"http://static.pythontrade.com/public/PIC/ISOM2500/distribution/z.PNG\">\n",
    "- numpy.random.randn(d0, d1, ..., dn):Return a sample (or samples) from the “standard normal” distribution.\n",
    "\n"
   ]
  },
  {
   "cell_type": "code",
   "execution_count": 62,
   "metadata": {
    "collapsed": false
   },
   "outputs": [
    {
     "data": {
      "image/png": "[encoded data removed]",
      "text/plain": [
       "<matplotlib.figure.Figure at 0x7f1219391b90>"
      ]
     },
     "metadata": {},
     "output_type": "display_data"
    }
   ],
   "source": [
    "B=np.random.randn(10000000)\n",
    "B_hist=plt.hist(B,bins=100,normed=True)"
   ]
  },
  {
   "cell_type": "markdown",
   "metadata": {},
   "source": [
    "**Find probability for normal random variable**: $X$~$N(5,36)$,find  $P(0<X<7)$"
   ]
  },
  {
   "cell_type": "code",
   "execution_count": 65,
   "metadata": {
    "collapsed": false
   },
   "outputs": [
    {
     "data": {
      "text/plain": [
       "<matplotlib.lines.Line2D at 0x7f12129b70d0>"
      ]
     },
     "execution_count": 65,
     "metadata": {},
     "output_type": "execute_result"
    },
    {
     "data": {
      "image/png": "[encoded data removed]",
      "text/plain": [
       "<matplotlib.figure.Figure at 0x7f1219499350>"
      ]
     },
     "metadata": {},
     "output_type": "display_data"
    }
   ],
   "source": [
    "Q1=np.random.normal(5,6,1000000)\n",
    "plt.figure()\n",
    "question1=plt.hist(Q1, bins=50, normed=True )\n",
    "plt.axvline(x=0,color='r')\n",
    "plt.axvline(x=7,color='r')"
   ]
  },
  {
   "cell_type": "markdown",
   "metadata": {},
   "source": [
    "Method 1: Simulation  "
   ]
  },
  {
   "cell_type": "code",
   "execution_count": 71,
   "metadata": {
    "collapsed": false
   },
   "outputs": [
    {
     "name": "stdout",
     "output_type": "stream",
     "text": [
      "[6 7 8]\n"
     ]
    }
   ],
   "source": [
    "r1=np.array([1,2,3,4,5,6,7,8])\n",
    "r2=r1[r1>5]\n",
    "print r2"
   ]
  },
  {
   "cell_type": "code",
   "execution_count": 74,
   "metadata": {
    "collapsed": false
   },
   "outputs": [
    {
     "name": "stdout",
     "output_type": "stream",
     "text": [
      "0.428254291\n"
     ]
    }
   ],
   "source": [
    "A= np.random.normal(5,6,size=1000000000)\n",
    "B=A[A>0]\n",
    "C=B[B<7]\n",
    "print len(C)/float(len(A))"
   ]
  },
  {
   "cell_type": "markdown",
   "metadata": {},
   "source": [
    "Method 2. Build-in function \n",
    "$$P(X<7)-P(x<0)$$"
   ]
  },
  {
   "cell_type": "code",
   "execution_count": 66,
   "metadata": {
    "collapsed": false
   },
   "outputs": [
    {
     "name": "stdout",
     "output_type": "stream",
     "text": [
      "0.428230278855\n"
     ]
    }
   ],
   "source": [
    "from  scipy.stats import norm\n",
    "print norm.cdf(7,5,6)-norm.cdf(0,5,6)"
   ]
  },
  {
   "cell_type": "markdown",
   "metadata": {},
   "source": [
    "$$P(X>10)$$"
   ]
  },
  {
   "cell_type": "code",
   "execution_count": 67,
   "metadata": {
    "collapsed": false
   },
   "outputs": [
    {
     "name": "stdout",
     "output_type": "stream",
     "text": [
      "0.202328380964\n"
     ]
    }
   ],
   "source": [
    "print 1-norm.cdf(10,5,6)"
   ]
  },
  {
   "cell_type": "markdown",
   "metadata": {},
   "source": [
    "- cdf: cumulative distribution function, norm.cdf(value,mean,std)\n",
    "- cdf(value, mean,standard deviation)\n",
    "- For example: norm.cdf(1) means $P(z\\le 1)$"
   ]
  },
  {
   "cell_type": "markdown",
   "metadata": {},
   "source": [
    "**Find quatiles**: Find a such that $P(X>a)=0.05$ with $X$~$N(5,36)$\n",
    "- scipy.stats.norm.ppf(percentage,mean,standard deviation)"
   ]
  },
  {
   "cell_type": "code",
   "execution_count": 32,
   "metadata": {
    "collapsed": false
   },
   "outputs": [
    {
     "data": {
      "text/plain": [
       "14.869121761708833"
      ]
     },
     "execution_count": 32,
     "metadata": {},
     "output_type": "execute_result"
    }
   ],
   "source": [
    "norm.ppf(0.95,5,6)"
   ]
  },
  {
   "cell_type": "code",
   "execution_count": 37,
   "metadata": {
    "collapsed": false
   },
   "outputs": [
    {
     "data": {
      "text/plain": [
       "<matplotlib.lines.Line2D at 0x7f121269fd50>"
      ]
     },
     "execution_count": 37,
     "metadata": {},
     "output_type": "execute_result"
    },
    {
     "data": {
      "image/png": "[encoded data removed]",
      "text/plain": [
       "<matplotlib.figure.Figure at 0x7f1211f1a1d0>"
      ]
     },
     "metadata": {},
     "output_type": "display_data"
    }
   ],
   "source": [
    "plt.figure(figsize=(5,5))\n",
    "std_plot=plt.hist(np.random.normal(5,6,100000),bins=50,normed=True)\n",
    "plt.axvline(x=14.869,color='r')"
   ]
  },
  {
   "cell_type": "markdown",
   "metadata": {},
   "source": [
    "We also can standardize the problem $P(z>\\frac{a-5}{6})=0.05$"
   ]
  },
  {
   "cell_type": "code",
   "execution_count": 36,
   "metadata": {
    "collapsed": false
   },
   "outputs": [
    {
     "name": "stdout",
     "output_type": "stream",
     "text": [
      "1.64485362695\n",
      "14.8691217617\n"
     ]
    },
    {
     "data": {
      "text/plain": [
       "<matplotlib.lines.Line2D at 0x7f1211e24b50>"
      ]
     },
     "execution_count": 36,
     "metadata": {},
     "output_type": "execute_result"
    },
    {
     "data": {
      "image/png": "[encoded data removed]",
      "text/plain": [
       "<matplotlib.figure.Figure at 0x7f1211e62c10>"
      ]
     },
     "metadata": {},
     "output_type": "display_data"
    }
   ],
   "source": [
    "print norm.ppf(0.95,0,1)\n",
    "print norm.ppf(0.95,0,1)*6+5\n",
    "plt.figure(figsize=(5,5))\n",
    "std_plot=plt.hist(np.random.normal(0,1,100000),bins=50,normed=True)\n",
    "plt.axvline(x=1.6448,color='r')"
   ]
  },
  {
   "cell_type": "markdown",
   "metadata": {},
   "source": [
    "**Question:(Value at Risk)**\n",
    "<img src=\"http://static.pythontrade.com/public/PIC/ISOM2500/distribution/pnl.PNG\">"
   ]
  },
  {
   "cell_type": "markdown",
   "metadata": {},
   "source": [
    "**VaR**: Now consider pnl of an investment  with normal  distribution,  mean =4 and variance =25,  find the 3% VaR ?\n"
   ]
  },
  {
   "cell_type": "code",
   "execution_count": 78,
   "metadata": {
    "collapsed": false
   },
   "outputs": [
    {
     "name": "stdout",
     "output_type": "stream",
     "text": [
      "3% VaR is: -5.40396804076\n",
      "it means, there is only 3% chance to lose more than -5.40396804076\n"
     ]
    }
   ],
   "source": [
    "print \"3% VaR is:\", norm.ppf(0.03, 4, 5)\n",
    "\n",
    "print \"it means, there is only 3% chance to lose more than\", norm.ppf(0.03, 4, 5)"
   ]
  }
 ],
 "metadata": {
  "kernelspec": {
   "display_name": "Python 2",
   "language": "python",
   "name": "python2"
  },
  "language_info": {
   "codemirror_mode": {
    "name": "ipython",
    "version": 2
   },
   "file_extension": ".py",
   "mimetype": "text/x-python",
   "name": "python",
   "nbconvert_exporter": "python",
   "pygments_lexer": "ipython2",
   "version": "2.7.10"
  }
 },
 "nbformat": 4,
 "nbformat_minor": 0
}
