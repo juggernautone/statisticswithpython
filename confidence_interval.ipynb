{
 "cells": [
  {
   "cell_type": "markdown",
   "metadata": {},
   "source": [
    "# 4.1 Confidence interval"
   ]
  },
  {
   "cell_type": "markdown",
   "metadata": {},
   "source": [
    "**P1** for standard normal r.v. 'z', find value 'b' such that \n",
    "$$\n",
    "P(-b<z<b)=90\\%\n",
    "$$"
   ]
  },
  {
   "cell_type": "code",
   "execution_count": 57,
   "metadata": {
    "collapsed": false
   },
   "outputs": [
    {
     "name": "stdout",
     "output_type": "stream",
     "text": [
      "1.64485362695\n"
     ]
    },
    {
     "data": {
      "image/png": "[encoded data removed]",
      "text/plain": [
       "<matplotlib.figure.Figure at 0x7fe160e93350>"
      ]
     },
     "metadata": {},
     "output_type": "display_data"
    }
   ],
   "source": [
    "import numpy as np\n",
    "import matplotlib.pyplot as plt\n",
    "import pandas as pd\n",
    "%matplotlib inline\n",
    "from  scipy.stats import norm\n",
    "b=norm.ppf(0.95,0,1)  #ppf is perfect to find quatile\n",
    "print b\n",
    "z=np.random.normal(0,1,size=1000000)\n",
    "z_hist=plt.hist(z,bins=30,normed=True)\n",
    "plt.title(r\"standard normal $z$\")\n",
    "plt.axvline(x=1.96,color='g')\n",
    "plt.axvline(x=-1.96,color='g')\n",
    "plt.axvline(x=1.645,color='r')\n",
    "plt.axvline(x=-1.645,color='r')\n",
    "plt.legend()"
   ]
  },
  {
   "cell_type": "code",
   "execution_count": 59,
   "metadata": {
    "collapsed": false
   },
   "outputs": [
    {
     "data": {
      "text/plain": [
       "1.4395314709384563"
      ]
     },
     "execution_count": 59,
     "metadata": {},
     "output_type": "execute_result"
    }
   ],
   "source": [
    "norm.ppf(0.925,0,1)"
   ]
  },
  {
   "cell_type": "markdown",
   "metadata": {},
   "source": [
    "- Either population is normal \n",
    "- or population is not normal, but sample size is large ($n>30$)\n",
    "- $\\bar{x}\\rightarrow N(\\mu,\\frac{\\sigma^2}{n})$\n",
    "- $\\frac{\\bar{x}-\\mu}{\\frac{\\sigma}{\\sqrt{n}}}$ is z-distribution"
   ]
  },
  {
   "cell_type": "markdown",
   "metadata": {},
   "source": [
    "**Question:**\n",
    "\n",
    "We draw ramdom sample of size 40 from a population with $\\mu=10$ and $\\sigma=5$. \n",
    "- what is distribution of $\\frac{\\bar{x}-\\mu}{\\frac{\\sigma}{\\sqrt{n}}}$?\n",
    "- find $z_{\\frac{\\alpha}{2}}>0$, such that $P(\\frac{\\bar{x}-\\mu}{\\frac{\\sigma}{\\sqrt{n}}}\\le z_{\\frac{\\alpha}{2}})=0.975$\n",
    "- what is the probability $P(-z_{\\frac{\\alpha}{2}}\\le \\frac{\\bar{x}-\\mu}{\\frac{\\sigma}{\\sqrt{n}}}\\le z_{\\frac{\\alpha}{2}})=95\\%$\n",
    "- what is the probability $P(-z_{\\frac{\\alpha}{2}}\\frac{\\sigma}{\\sqrt{n}}\\le {\\bar{x}-\\mu}\\le z_{\\frac{\\alpha}{2}}\\frac{\\sigma}{\\sqrt{n}})=95\\%$\n",
    "- what is the probability $P(-z_{\\frac{\\alpha}{2}}\\frac{\\sigma}{\\sqrt{n}}\\le {\\mu-\\bar{x}}\\le z_{\\frac{\\alpha}{2}}\\frac{\\sigma}{\\sqrt{n}})=95\\%$\n",
    "- what is the probability $P(\\bar{x}-z_{\\frac{\\alpha}{2}}\\frac{\\sigma}{\\sqrt{n}}\\le {\\mu}\\le \\bar{x}+z_{\\frac{\\alpha}{2}}\\frac{\\sigma}{\\sqrt{n}})=95\\%$"
   ]
  },
  {
   "cell_type": "code",
   "execution_count": 56,
   "metadata": {
    "collapsed": false
   },
   "outputs": [
    {
     "name": "stdout",
     "output_type": "stream",
     "text": [
      "1.64485362695\n"
     ]
    }
   ],
   "source": [
    "z=norm.ppf(0.95,0,1)\n",
    "print z"
   ]
  },
  {
   "cell_type": "markdown",
   "metadata": {},
   "source": [
    "**Question:** \n",
    "\n",
    "Population is normal with standard deviation $\\sigma=5$. We randomly select a sample with sample size $n=40$. We find $\\bar{x}=8$. Then we design an interval $$\\left[8-1.645\\frac{5}{\\sqrt{40}}, 8+1.645\\frac{5}{\\sqrt{40}}\\right]$$\n",
    "What is the chance that the population mean $\\mu$ is in this interval\n"
   ]
  },
  {
   "cell_type": "markdown",
   "metadata": {},
   "source": [
    "**Discussion:**\n",
    "Assume we know population mean is $\\mu=5$, we randomly select 1000 samples with $n=25$. From each sample, we build an interval \n",
    "$$\n",
    "\\left[\\bar{x}-1.645\\frac{\\sigma}{\\sqrt{n}},\\bar{x}+1.645\\frac{\\sigma}{\\sqrt{n}}\\right]\n",
    "$$\n",
    "We want to find out what is percentange of intervals that $\\mu$ is hidden inside. "
   ]
  },
  {
   "cell_type": "markdown",
   "metadata": {},
   "source": [
    "In next cell, we plot 1000 intervals built in this way and can see that most of intervals cover $\\mu=5$"
   ]
  },
  {
   "cell_type": "code",
   "execution_count": 55,
   "metadata": {
    "collapsed": false
   },
   "outputs": [
    {
     "data": {
      "image/png": "[encoded data removed]",
      "text/plain": [
       "<matplotlib.figure.Figure at 0x7fe160e934d0>"
      ]
     },
     "metadata": {},
     "output_type": "display_data"
    }
   ],
   "source": [
    "import numpy as np\n",
    "import matplotlib.pyplot as plt\n",
    "%matplotlib inline\n",
    "for k in range(1000):\n",
    "    sample=np.random.normal(5,5,size=40)\n",
    "    left=sample.mean()-1.645*5/np.sqrt(40)\n",
    "    right=sample.mean()+1.645*5/np.sqrt(40)\n",
    "    plt.plot([left,right],[k,k])\n",
    "    plt.axvline(x=5,color='b')\n",
    "    plt.ylim(0,1500)\n",
    "    plt.xlim(0,12)\n",
    "    "
   ]
  },
  {
   "cell_type": "markdown",
   "metadata": {},
   "source": [
    "But still, there are still some intervals which do not cover $\\mu=5$.  "
   ]
  },
  {
   "cell_type": "code",
   "execution_count": 25,
   "metadata": {
    "collapsed": false
   },
   "outputs": [
    {
     "data": {
      "image/png": "[encoded data removed]",
      "text/plain": [
       "<matplotlib.figure.Figure at 0x7fe1612c1490>"
      ]
     },
     "metadata": {},
     "output_type": "display_data"
    }
   ],
   "source": [
    "for k in range(1000):\n",
    "    sample=np.random.normal(5,5,size=40)\n",
    "    left=sample.mean()-1.645*5/np.sqrt(40)\n",
    "    right=sample.mean()+1.645*5/np.sqrt(40)\n",
    "    if (left>5 or right<5):\n",
    "        plt.plot([left,right],[k,k])\n",
    "    plt.axvline(x=5,color='b')\n",
    "    plt.ylim(0,1500)\n",
    "    plt.xlim(0,12)"
   ]
  },
  {
   "cell_type": "markdown",
   "metadata": {},
   "source": [
    "To compute percentage of intervals that cover $\\mu=5$,"
   ]
  },
  {
   "cell_type": "code",
   "execution_count": 26,
   "metadata": {
    "collapsed": false
   },
   "outputs": [
    {
     "name": "stdout",
     "output_type": "stream",
     "text": [
      "0.102\n"
     ]
    }
   ],
   "source": [
    "num=0\n",
    "for k in range(1000):\n",
    "    sample=np.random.normal(5,5,size=40)\n",
    "    left=sample.mean()-1.645*5/np.sqrt(40)\n",
    "    right=sample.mean()+1.645*5/np.sqrt(40)\n",
    "    if (left>5 or right<5):\n",
    "       num=num+1\n",
    "print num/float(1000)"
   ]
  },
  {
   "cell_type": "markdown",
   "metadata": {},
   "source": [
    "**WHY:**\n",
    "- $\\frac{\\bar{x}-\\mu}{\\frac{\\sigma}{\\sqrt{n}}}$ is z-distributed \n",
    "- hence  $\\bar{x}-1.645\\frac{\\sigma}{\\sqrt{n}}\\le \\mu\\le \\bar{x}+1.645\\frac{\\sigma}{\\sqrt{n}}$ with $90\\%$ chance, which is called\n",
    "- Usually, we denote confidence level by $1-\\alpha$, $alpha$ is significance level which is total probability of two tails. \n",
    "- Probability of each tail is $\\frac{\\alpha}{2}$ and the critical value is denoted as $z_{\\frac{\\alpha}{2}}$\n",
    "**confidence level**"
   ]
  },
  {
   "cell_type": "code",
   "execution_count": 32,
   "metadata": {
    "collapsed": false
   },
   "outputs": [
    {
     "data": {
      "text/plain": [
       "<matplotlib.legend.Legend at 0x7fe162da05d0>"
      ]
     },
     "execution_count": 32,
     "metadata": {},
     "output_type": "execute_result"
    },
    {
     "data": {
      "image/png": "[encoded data removed]",
      "text/plain": [
       "<matplotlib.figure.Figure at 0x7fe1630ec210>"
      ]
     },
     "metadata": {},
     "output_type": "display_data"
    }
   ],
   "source": [
    "mean_array_hist=plt.hist(np.random.normal(0,1,100000),bins=50, normed=True)\n",
    "plt.title(r\"z distribution\")\n",
    "plt.axvline(x=1.645,color='r',label=r'$z_{0.05}=1.645$')\n",
    "plt.axvline(x=-1.645,color='g',label=r'$-z_{0.05}=-1.645$')\n",
    "plt.legend()"
   ]
  },
  {
   "cell_type": "markdown",
   "metadata": {},
   "source": [
    "**HOW to find confidence interval for $\\mu$ with certain confidence level:** "
   ]
  },
  {
   "cell_type": "markdown",
   "metadata": {
    "collapsed": false
   },
   "source": [
    "- Find quatile $z_{\\frac{\\alpha}{2}}$ with probability $1-\\frac{\\alpha}{2}$\n",
    "- $$\\left[\\bar{x}-z_{\\frac{\\alpha}{2}}\\frac{\\sigma}{\\sqrt{n}},\\bar{x}+z_{\\frac{\\alpha}{2}}\\frac{\\sigma}{\\sqrt{n}}\\right]$$\n",
    "- Given $n>30$, even if the population is not normal, the confidence interval is the same. \n",
    "- If the population is standard deviation is unknown, but $n>30$, the confidence interval is almost the same with $\\sigma$ replaced by sample standard deviation $s$. "
   ]
  },
  {
   "cell_type": "code",
   "execution_count": 35,
   "metadata": {
    "collapsed": false
   },
   "outputs": [
    {
     "data": {
      "text/plain": [
       "<matplotlib.legend.Legend at 0x7fe163b2fe90>"
      ]
     },
     "execution_count": 35,
     "metadata": {},
     "output_type": "execute_result"
    },
    {
     "data": {
      "image/png": "[encoded data removed]",
      "text/plain": [
       "<matplotlib.figure.Figure at 0x7fe161ec6210>"
      ]
     },
     "metadata": {},
     "output_type": "display_data"
    }
   ],
   "source": [
    "mean_array_hist=plt.hist(np.random.normal(0,1,100000),bins=50, normed=True)\n",
    "plt.title(r\"z distribution\")\n",
    "plt.axvline(x=1.645,color='r',label=r'$z_{\\frac{\\alpha}{2}}$')\n",
    "plt.axvline(x=-1.645,color='g',label=r'$-z_{\\frac{\\alpha}{2}}$')\n",
    "plt.legend()"
   ]
  },
  {
   "cell_type": "markdown",
   "metadata": {},
   "source": [
    "**Example:** We have a sample from HK population with sample size$=40$.  the monthly salaries of sampled invididuals are: [10, 11,12,23,8,5,8,9,11,10,15, 11,6,17,12,10,8,9,11,9,2, 6,11,19,8,5,8,9,12,15,7, 12,15,16,8,5,8,10,12,13]   in thousand HK dollar. Please find 95% confidence interval for average salary in HK. "
   ]
  },
  {
   "cell_type": "code",
   "execution_count": 71,
   "metadata": {
    "collapsed": false
   },
   "outputs": [
    {
     "name": "stdout",
     "output_type": "stream",
     "text": [
      "9.13523802535\n",
      "11.6647619746\n"
     ]
    }
   ],
   "source": [
    "sample=[10, 11,12,23,8,5,8,9,11,10,15, 11,6,17,12,10,8,9,11,9,2, 6,11,19,8,5,8,9,12,15,7, 12,15,16,8,5,8,10,12,13] \n",
    "sample=np.array(sample)\n",
    "mean=sample.mean()\n",
    "std=sample.std(ddof=1)\n",
    "z=norm.ppf(0.975,0,1)\n",
    "left=mean-z*std/np.sqrt(len(sample))\n",
    "right=mean+z*std/np.sqrt(len(sample))\n",
    "print left\n",
    "print right\n",
    "left=sample.mean()-norm.ppf(0.975,0,1)*sample.std(ddof=1)/np.sqrt(len(sample))\n",
    "right=sample.mean()+norm.ppf(0.975,0,1)*sample.std(ddof=1)/np.sqrt(len(sample))"
   ]
  }
 ],
 "metadata": {
  "kernelspec": {
   "display_name": "Python 2",
   "language": "python",
   "name": "python2"
  },
  "language_info": {
   "codemirror_mode": {
    "name": "ipython",
    "version": 2
   },
   "file_extension": ".py",
   "mimetype": "text/x-python",
   "name": "python",
   "nbconvert_exporter": "python",
   "pygments_lexer": "ipython2",
   "version": "2.7.10"
  }
 },
 "nbformat": 4,
 "nbformat_minor": 0
}
