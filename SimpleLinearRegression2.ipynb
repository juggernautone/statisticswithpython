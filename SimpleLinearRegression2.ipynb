{
 "cells": [
  {
   "cell_type": "markdown",
   "metadata": {},
   "source": [
    "# Evaluation of Model"
   ]
  },
  {
   "cell_type": "code",
   "execution_count": 1,
   "metadata": {
    "collapsed": false
   },
   "outputs": [],
   "source": [
    "import pandas as pd\n",
    "import matplotlib.pyplot as plt\n",
    "%matplotlib inline\n",
    "\n"
   ]
  },
  {
   "cell_type": "code",
   "execution_count": 2,
   "metadata": {
    "collapsed": false
   },
   "outputs": [],
   "source": [
    "data = pd.read_csv('http://pythontrade.com/public/Data/pro2/adv.csv',index_col=0)"
   ]
  },
  {
   "cell_type": "code",
   "execution_count": 3,
   "metadata": {
    "collapsed": false
   },
   "outputs": [
    {
     "name": "stdout",
     "output_type": "stream",
     "text": [
      "      TV  Radio  Newspaper  Sales\n",
      "1  230.1   37.8       69.2   22.1\n",
      "2   44.5   39.3       45.1   10.4\n",
      "3   17.2   45.9       69.3    9.3\n",
      "4  151.5   41.3       58.5   18.5\n",
      "5  180.8   10.8       58.4   12.9\n"
     ]
    }
   ],
   "source": [
    "print data.head()\n",
    "# this is the standard import if you're using \"formula notation\" (similar to R)\n",
    "import statsmodels.formula.api as smf\n",
    "lm1 = smf.ols(formula='Sales ~ Newspaper', data=data)\n",
    "lm=lm1.fit()"
   ]
  },
  {
   "cell_type": "markdown",
   "metadata": {},
   "source": [
    "## Evaluate the variance- Confidence in our Model\n",
    "\n",
    "**Variance of model:** With repeated sampling, the variation of position of line. \n",
    "**Biase of model:** goodness of captuing the true relationship.\n",
    "\n",
    "**Linear Regression Model is low-variance and high-bias model**. \n",
    "\n",
    "\n",
    "\n",
    "A closely related concept is **confidence intervals**. Statsmodels calculates 95% confidence intervals for our model coefficients, which are interpreted as follows: If the population from which this sample was drawn was **sampled 100 times**, approximately **95 of those confidence intervals** would contain the \"true\" coefficient."
   ]
  },
  {
   "cell_type": "code",
   "execution_count": 4,
   "metadata": {
    "collapsed": false
   },
   "outputs": [
    {
     "name": "stdout",
     "output_type": "stream",
     "text": [
      "                   0          1\n",
      "Intercept  11.125956  13.576859\n",
      "Newspaper   0.022005   0.087381\n",
      "                  0          1\n",
      "Intercept  8.632293  16.070521\n",
      "Newspaper -0.044510   0.153897\n"
     ]
    }
   ],
   "source": [
    "# print the confidence intervals for the model coefficients\n",
    "print lm.conf_int()\n",
    "print lm.conf_int(0.00000001) "
   ]
  },
  {
   "cell_type": "markdown",
   "metadata": {},
   "source": [
    "Wwe only have a **single sample of data**, and not the **entire population of data**. The \"true\" coefficient is either within this interval or it isn't. We estimate the coefficient with the data we do have, and we show uncertainty about that estimate by giving a range that the coefficient is **probably** within.\n",
    "\n"
   ]
  },
  {
   "cell_type": "markdown",
   "metadata": {},
   "source": [
    "## Evaluate the variance-  p-values\n",
    "\n",
    " **p-value** represents the probability that the coefficient is actually zero\n"
   ]
  },
  {
   "cell_type": "code",
   "execution_count": 5,
   "metadata": {
    "collapsed": false
   },
   "outputs": [
    {
     "data": {
      "text/plain": [
       "Intercept    4.713507e-49\n",
       "Newspaper    1.148196e-03\n",
       "dtype: float64"
      ]
     },
     "execution_count": 5,
     "metadata": {},
     "output_type": "execute_result"
    }
   ],
   "source": [
    "# print the p-values for the model coefficients\n",
    "lm.pvalues"
   ]
  },
  {
   "cell_type": "markdown",
   "metadata": {},
   "source": [
    "- If the 95% confidence interval **includes zero**, the p-value for that coefficient will be **greater than 0.05**. \n",
    "- If the 95% confidence interval **does not include zero**, the p-value will be **less than 0.05**. \n",
    "-  p-value less than 0.05 is one way to decide whether there is likely a relationship between the feature and the response.\n",
    "\n"
   ]
  },
  {
   "cell_type": "markdown",
   "metadata": {},
   "source": [
    "## Evaluate the bias-  R-squared\n",
    "\n",
    "The most common way to evaluate the overall fit of a linear model is by the **R-squared** value. R-squared is the **proportion of variance explained**, meaning the proportion of variance in the observed data that is explained by the model, or the reduction in error over the **null model**. (The null model just predicts the mean of the observed response, and thus it has an intercept and no slope.)\n",
    "\n"
   ]
  },
  {
   "cell_type": "markdown",
   "metadata": {},
   "source": [
    "<img src=\"http://pythontrade.com/public/PIC/ISOM2500/regession/ssr.png\">"
   ]
  },
  {
   "cell_type": "markdown",
   "metadata": {},
   "source": [
    "- SSR (regression sum of squares): $SSR=\\sum_{i=1}^n(\\hat{y}_i-\\bar{y})^2=b_1^2S_{XX}$\n",
    "- SSE (error  sum of squares): $SSE=\\sum_{i=1}^n(y_i-\\hat{y}_i)^2$\n",
    "- SST(total sum of squares): $SST=\\sum_{i=1}^n(y_i-\\bar{y})^2$"
   ]
  },
  {
   "cell_type": "markdown",
   "metadata": {},
   "source": [
    "**SST=SSR+SSE**\n",
    "\n",
    "**R-squared=$\\frac{SSR}{SST}$**"
   ]
  },
  {
   "cell_type": "markdown",
   "metadata": {},
   "source": [
    "Let's calculate the R-squared value for our simple linear model:"
   ]
  },
  {
   "cell_type": "code",
   "execution_count": 6,
   "metadata": {
    "collapsed": false
   },
   "outputs": [
    {
     "data": {
      "text/plain": [
       "0.052120445444305163"
      ]
     },
     "execution_count": 6,
     "metadata": {},
     "output_type": "execute_result"
    }
   ],
   "source": [
    "# print the R-squared value for the model\n",
    "lm.rsquared"
   ]
  },
  {
   "cell_type": "markdown",
   "metadata": {},
   "source": [
    "Is that a \"good\" R-squared value? It's hard to say. The threshold for a good R-squared value depends widely on the domain. Therefore, it's most useful as a tool for **comparing different models**."
   ]
  },
  {
   "cell_type": "markdown",
   "metadata": {},
   "source": [
    "<img src=\"http://pythontrade.com/public/PIC/ISOM2500/regession/r2_1.png\">\n",
    "<img src=\"http://pythontrade.com/public/PIC/ISOM2500/regession/r2_2.png\">\n",
    "<img src=\"http://pythontrade.com/public/PIC/ISOM2500/regession/r2_3.png\">\n",
    "<img src=\"http://pythontrade.com/public/PIC/ISOM2500/regession/r2_4.png\">"
   ]
  },
  {
   "cell_type": "markdown",
   "metadata": {},
   "source": [
    "## Evaluate the bias-  RMSE\n",
    "\n",
    "<img src=\"http://pythontrade.com/public/PIC/ISOM2500/regession/rmse.PNG\">"
   ]
  },
  {
   "cell_type": "markdown",
   "metadata": {},
   "source": [
    "-$$RMSE=\\sqrt{\\frac{SSE}{n-2}}$$\n",
    "- sometime we also denote it as $s$, since it is also an point estimate for $\\sigma$.\n",
    "\n"
   ]
  },
  {
   "cell_type": "markdown",
   "metadata": {},
   "source": [
    "\n",
    "<img src=\"http://pythontrade.com/public/PIC/ISOM2500/regession/rmse1.png\">\n",
    "\n",
    "<img src=\"http://pythontrade.com/public/PIC/ISOM2500/regession/rmse2.png\">"
   ]
  },
  {
   "cell_type": "markdown",
   "metadata": {},
   "source": [
    "**Practice:** Consider the data with scores and learning hours, explore the variance and bias of linear regression model."
   ]
  },
  {
   "cell_type": "code",
   "execution_count": 7,
   "metadata": {
    "collapsed": false
   },
   "outputs": [
    {
     "name": "stdout",
     "output_type": "stream",
     "text": [
      "25 25\n"
     ]
    }
   ],
   "source": [
    "X=[1,1,1,2,2,3,4,5,6,6,7,8,9,1,1,1,2,4,5,5,20,16,15,15,6]\n",
    "Y=[50,60,60,55,55,60,70,65,70,85,85,85,50,55,40,50,70,60,70,75,100,90,85,90,60]\n",
    "print len(X),len(Y)"
   ]
  },
  {
   "cell_type": "code",
   "execution_count": 8,
   "metadata": {
    "collapsed": false
   },
   "outputs": [
    {
     "name": "stdout",
     "output_type": "stream",
     "text": [
      "   hours  score\n",
      "0      1     50\n",
      "1      1     60\n",
      "2      1     60\n",
      "3      2     55\n",
      "4      2     55\n",
      "Intercept    54.192875\n",
      "hours         2.329987\n",
      "dtype: float64\n",
      "R-squared= 0.644801084788\n"
     ]
    }
   ],
   "source": [
    "data1=pd.DataFrame()\n",
    "data1['hours']=X\n",
    "data1['score']=Y\n",
    "print data1.head()\n",
    "lm = smf.ols(formula='score ~ hours', data=data1).fit()\n",
    "print lm.params\n",
    "print \"R-squared=\", lm.rsquared\n"
   ]
  },
  {
   "cell_type": "code",
   "execution_count": 9,
   "metadata": {
    "collapsed": true
   },
   "outputs": [],
   "source": [
    "real=data1['score']\n",
    "predict=lm.params[0]+lm.params[1]*data1['hours']"
   ]
  },
  {
   "cell_type": "code",
   "execution_count": 10,
   "metadata": {
    "collapsed": false
   },
   "outputs": [
    {
     "name": "stdout",
     "output_type": "stream",
     "text": [
      "RMSE= 9.46750622298\n"
     ]
    }
   ],
   "source": [
    "import numpy as np\n",
    "SSE=((real-predict)**2).sum()\n",
    "RMSE=np.sqrt(SSE/(len(X)-2))\n",
    "print \"RMSE=\",RMSE"
   ]
  }
 ],
 "metadata": {
  "kernelspec": {
   "display_name": "Python 2",
   "language": "python",
   "name": "python2"
  },
  "language_info": {
   "codemirror_mode": {
    "name": "ipython",
    "version": 2
   },
   "file_extension": ".py",
   "mimetype": "text/x-python",
   "name": "python",
   "nbconvert_exporter": "python",
   "pygments_lexer": "ipython2",
   "version": "2.7.10"
  }
 },
 "nbformat": 4,
 "nbformat_minor": 0
}
