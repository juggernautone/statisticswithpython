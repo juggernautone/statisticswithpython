{
 "cells": [
  {
   "cell_type": "markdown",
   "metadata": {},
   "source": [
    "## 2.2.2 Expectation and Variance of Variables\n",
    "|possible value|probability|\n",
    "|--|--|\n",
    "|\t120|\t0.1|\n",
    "|80\t|0.9|\n",
    "\n",
    "\n",
    "<img src=\"http://ihome.ust.hk/~imwan/index_files/pic/pic4.png\">\n",
    "\n",
    "**Question:** what is the mean and variance of 10 share of this stocks ."
   ]
  },
  {
   "cell_type": "markdown",
   "metadata": {},
   "source": [
    "$$\\mu_{10S}=10\\mu_{S}$$\n",
    "$$\n",
    "\\sigma^2_{10S}=100\\sigma^2_{S}\n",
    "$$\n",
    "$$\n",
    "\\sigma_{10S}=10\\sigma_S\n",
    "$$"
   ]
  },
  {
   "cell_type": "markdown",
   "metadata": {},
   "source": [
    "$$sharpeRatio_{10S}=\\frac{\\mu_{10S}}{\\sigma_{10S}}=\\frac{\\mu_S}{\\sigma_S}$$"
   ]
  },
  {
   "cell_type": "markdown",
   "metadata": {},
   "source": [
    "$$sharpeRatio_{10S}=sharpeRatio_S$$"
   ]
  },
  {
   "cell_type": "code",
   "execution_count": 6,
   "metadata": {
    "collapsed": false
   },
   "outputs": [
    {
     "name": "stdout",
     "output_type": "stream",
     "text": [
      "mean of 10 share of stock is: 840.0\n",
      "Variance of 10 share of stock is: 14400.0\n"
     ]
    }
   ],
   "source": [
    "import numpy as np\n",
    "s=np.array([120,80])\n",
    "p=np.array([0.1,0.9])\n",
    "\n",
    "def expect(x0,p0):\n",
    "    return  (x0*p0).sum()\n",
    "\n",
    "def Var(x0,p0):\n",
    "    return  ((x0-expect(x0,p0))**2*p0).sum() \n",
    "\n",
    "def STD(x0,p0):\n",
    "    return np.sqrt(Var(x0,p0))\n",
    "\n",
    "\n",
    "print \"mean of 10 share of stock is:\", 10*expect(s,p)\n",
    "print \"Variance of 10 share of stock is:\", 100*Var(s,p)"
   ]
  },
  {
   "cell_type": "markdown",
   "metadata": {},
   "source": [
    "**Question:** Financial portfolio usually include riskless bonds and risky asset, i.e. $100 bond and 5 share share of stock. How to compute mean and variance.\n",
    "\n",
    "$$\n",
    "\\mu_{5S+100}=5\\mu_S+100\n",
    "$$"
   ]
  },
  {
   "cell_type": "markdown",
   "metadata": {},
   "source": [
    "**Example:** \n",
    "Which fund is more profitable?\n",
    "<img src=\"http://static.pythontrade.com/public/PIC/ISOM2500/Prob2/fund.png\">\n"
   ]
  },
  {
   "cell_type": "code",
   "execution_count": 12,
   "metadata": {
    "collapsed": false
   },
   "outputs": [
    {
     "name": "stdout",
     "output_type": "stream",
     "text": [
      "mean and standard deviation of fund X is : 50.0  43.3012701892\n",
      "mean and standard deviation of fund y is : 95.0  193.713706278\n"
     ]
    }
   ],
   "source": [
    "x=np.array([-25,50,100])\n",
    "y=np.array([-200,60,350])\n",
    "p=np.array([0.2,0.5,0.3])\n",
    "\n",
    "mx=expect(x,p)\n",
    "my=expect(y,p)\n",
    "sx=STD(x,p)\n",
    "sy=STD(y,p)\n",
    "print \"mean and standard deviation of fund X is :\", mx,'',sx\n",
    "print \"mean and standard deviation of fund y is :\", my,'',syb"
   ]
  },
  {
   "cell_type": "markdown",
   "metadata": {},
   "source": [
    "**Sharpe ratio**"
   ]
  },
  {
   "cell_type": "markdown",
   "metadata": {},
   "source": [
    "## 2.2.2 Association between two Random Variables\n",
    "\n"
   ]
  },
  {
   "cell_type": "markdown",
   "metadata": {},
   "source": [
    "- The covariance measures the strength of the **linear** relationship between two variables\n",
    "$$\n",
    "Cov(X,Y)~or~ \\sigma_{XY}=\\sum_{i}[(x_i-\\mu_i)(y_i-\\mu_i)P(X=x_i,Y=y_i)]\n",
    "$$\n",
    "- Coefficient of Correlation\n",
    "\n",
    "$$\n",
    "\\rho=\\frac{\\sigma_{XY}}{\\sigma_X\\sigma_Y}\n",
    "$$\n",
    "\n"
   ]
  },
  {
   "cell_type": "markdown",
   "metadata": {},
   "source": [
    "- Expectation and Variance of different variables.\n",
    "$$\n",
    "\\mu_{aX+bY}=a\\mu_X+b\\mu_Y\n",
    "$$\n",
    "$$\n",
    "\\sigma^2_{aX+bY}=a^2\\sigma^2(X)+b^2\\sigma^2(Y)+2ab\\sigma_{XY}\n",
    "$$"
   ]
  },
  {
   "cell_type": "markdown",
   "metadata": {},
   "source": [
    "**Example: Die Game**\n",
    "<img src=\"http://static.pythontrade.com/public/PIC/ISOM2500/Prob2/die.png\">"
   ]
  }
 ],
 "metadata": {
  "kernelspec": {
   "display_name": "Python 2",
   "language": "python",
   "name": "python2"
  },
  "language_info": {
   "codemirror_mode": {
    "name": "ipython",
    "version": 2
   },
   "file_extension": ".py",
   "mimetype": "text/x-python",
   "name": "python",
   "nbconvert_exporter": "python",
   "pygments_lexer": "ipython2",
   "version": "2.7.10"
  }
 },
 "nbformat": 4,
 "nbformat_minor": 0
}
