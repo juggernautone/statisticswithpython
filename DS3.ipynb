{
 "cells": [
  {
   "cell_type": "markdown",
   "metadata": {},
   "source": [
    "# 1.3 Bivariate Analysis\n",
    "\n",
    "- Evaluate **\"association\"** among variables\n",
    "- Association is any relationship of variables that renders them statistically dependent\n"
   ]
  },
  {
   "cell_type": "markdown",
   "metadata": {},
   "source": [
    "### 1.3.1 Categorical Variables"
   ]
  },
  {
   "cell_type": "markdown",
   "metadata": {},
   "source": [
    "#### Contingency table\n",
    "\n",
    "- In statistics, a contingency table is a type of table in a matrix format that displays the (multivariate) frequency distribution of the variables.\n",
    "\n",
    "-  They provide a basic picture of the interrelation between two variables and can help find interactions between them. \n",
    "\n",
    "\n",
    "- variables can be categorical or discrete numerical with finite possible values\n",
    "\n",
    "<img src=\"http://ihome.ust.hk/~imwan/index_files/pic/contingency.png\">"
   ]
  },
  {
   "cell_type": "code",
   "execution_count": 1,
   "metadata": {
    "collapsed": false
   },
   "outputs": [],
   "source": [
    "#two numerical variables\n",
    "import pandas as pd\n",
    "xn = pd.Series([1,2,3,2,3,2,1,2,2,3])\n",
    "yn = pd.Series([12,10,12,10,10,10,12,12,12,10])\n"
   ]
  },
  {
   "cell_type": "code",
   "execution_count": 2,
   "metadata": {
    "collapsed": false
   },
   "outputs": [
    {
     "name": "stdout",
     "output_type": "stream",
     "text": [
      "col_0  10  12\n",
      "row_0        \n",
      "1       0   2\n",
      "2       3   2\n",
      "3       2   1\n"
     ]
    }
   ],
   "source": [
    "Table=pd.crosstab(xn,yn)\n",
    "print Table"
   ]
  },
  {
   "cell_type": "code",
   "execution_count": 3,
   "metadata": {
    "collapsed": false
   },
   "outputs": [],
   "source": [
    "#one categorical, one numerical\n",
    "xc=pd.Series(['female','female','male','male','male','male','female','male','male'])\n",
    "yn=pd.Series([65,65,85,92,92,92,85,85,65])"
   ]
  },
  {
   "cell_type": "code",
   "execution_count": 4,
   "metadata": {
    "collapsed": false
   },
   "outputs": [
    {
     "name": "stdout",
     "output_type": "stream",
     "text": [
      "col_0   65  85  92\n",
      "row_0             \n",
      "female   2   1   0\n",
      "male     1   2   3\n"
     ]
    }
   ],
   "source": [
    "Table=pd.crosstab(xc,yn)\n",
    "print Table"
   ]
  },
  {
   "cell_type": "markdown",
   "metadata": {},
   "source": [
    "#### Chi Square \n",
    "Consider data\n",
    "\n",
    "|Republican|\tDemocrat|\tTotals\n",
    "--|--|--|\n",
    "M|\t215|\t143|\t358\n",
    "F\t|19\t|64\t|83\n",
    "Totals\t|234|\t207|\t441\n",
    "\n"
   ]
  },
  {
   "cell_type": "markdown",
   "metadata": {},
   "source": [
    "- If no association, what will table look like? We need a benchmark table that real table can compare with:\n",
    "\n",
    "|Republican|\tDemocrat|\tTotals\n",
    "--|--|--|\n",
    "M|\t|\t|\t358\n",
    "F\t|   |\t|83\n",
    "Totals\t| 234 |207\t|\t441"
   ]
  },
  {
   "cell_type": "markdown",
   "metadata": {},
   "source": [
    "- first we fill the blanks row-wisely \n",
    "\n",
    "-  We have 358 males and 83 females, if there is no association, the percentage of male and female will be the same for republican, Democrat and totals\n",
    "\n",
    "- The percentage of male is $\\frac{358}{441}$, hence the number of male republican should be $234\\times \\frac{358}{441}$ if no association\n",
    "- Then we have benchmark table as follows\n",
    "\n",
    "|Republican|\tDemocrat|\tTotals\n",
    "--|--|--|\n",
    "M|\t189.95|168.04\t|\t358\n",
    "F\t|  44.04 |38.96\t|83\n",
    "Totals\t| 234 |207\t|\t441"
   ]
  },
  {
   "cell_type": "code",
   "execution_count": 5,
   "metadata": {
    "collapsed": false
   },
   "outputs": [
    {
     "name": "stdout",
     "output_type": "stream",
     "text": [
      "[[ 189.95918367  168.04081633]\n",
      " [  44.04081633   38.95918367]]\n"
     ]
    }
   ],
   "source": [
    "import numpy as np\n",
    "male_perc=358.0/441\n",
    "mr=234*male_perc\n",
    "fr=234-mr\n",
    "md=358-mr\n",
    "fd=83-fr\n",
    "print np.array([[mr,md],[fr,fd]])"
   ]
  },
  {
   "cell_type": "markdown",
   "metadata": {},
   "source": [
    "- You may also find benchmark table column-wisely and will get the same table\n",
    "- i.e. the republican percentage is $\\frac{234}{441}$. Hence if no association, in both male and female, the percentage of repblican should be the same. "
   ]
  },
  {
   "cell_type": "markdown",
   "metadata": {},
   "source": [
    "- To compute **Chi-square**\n",
    "    1. For each observed number in the real  table subtract the corresponding number in bechchmark table:  $(R — B)$.\n",
    "    2. Square the difference $ (R —B)^2$.\n",
    "    3. Divide the squares obtained by corresponding elements from benchmark table: $\\frac{(R-B)^2}{B}$\n",
    "    4. Sum  all $\\frac{(R-B)^2}{B}$. This is the chi square statistic."
   ]
  },
  {
   "cell_type": "code",
   "execution_count": 6,
   "metadata": {
    "collapsed": false
   },
   "outputs": [
    {
     "name": "stdout",
     "output_type": "stream",
     "text": [
      "37.3653418446\n"
     ]
    }
   ],
   "source": [
    "B=np.array([189.95,168.04,44.04,38.96])\n",
    "R=np.array([215,143,19,64])\n",
    "chi=sum((R-B)**2/B)\n",
    "print chi"
   ]
  },
  {
   "cell_type": "markdown",
   "metadata": {},
   "source": [
    "Python also have built-in function:**chi2_contingency**"
   ]
  },
  {
   "cell_type": "code",
   "execution_count": 105,
   "metadata": {
    "collapsed": false
   },
   "outputs": [
    {
     "name": "stdout",
     "output_type": "stream",
     "text": [
      "<type 'numpy.ndarray'> (2, 2)\n",
      "(35.887768648068089, 2.090167442184169e-09, 1, array([[ 189.95918367,  168.04081633],\n",
      "       [  44.04081633,   38.95918367]]))\n"
     ]
    }
   ],
   "source": [
    "from scipy.stats import chi2_contingency\n",
    "Real=np.array([[215,143],[19,64]])\n",
    "chi= chi2_contingency(Real)\n",
    "print type(Real),Real.shape\n",
    "print chi"
   ]
  },
  {
   "cell_type": "markdown",
   "metadata": {},
   "source": [
    "**Application Scenarios:** For example, we want to compare whether sex gender or age has stronger association with Parties?\n",
    "\n",
    "|Republican|\tDemocrat|\tTotals\n",
    "--|--|--|\n",
    "under 50|\t200|\t100|\t300\n",
    "above 50\t|34\t|105\t|141\n",
    "Totals\t|234|\t207|\t441"
   ]
  },
  {
   "cell_type": "code",
   "execution_count": 92,
   "metadata": {
    "collapsed": false
   },
   "outputs": [
    {
     "name": "stdout",
     "output_type": "stream",
     "text": [
      "66.2953822207\n"
     ]
    }
   ],
   "source": [
    "print chi2_contingency(np.array([[200,100],[34,105]]))[0]"
   ]
  },
  {
   "cell_type": "markdown",
   "metadata": {},
   "source": [
    "Compare association\n",
    "\n",
    "|Lung|\tBreast|\tLiver|total\n",
    "--|--|--|\n",
    "Middle|\t20|\t40|\t60|120\n",
    "East\t|134\t|107\t|241|482   \n",
    "west|80|60|140|280\n",
    "Totals\t|234|\t207\t|441|882\n",
    "\n",
    "|Lung|\tBreast|\tLiver|total\n",
    "--|--|--|\n",
    "above 50|\t154|\t147|\t301|602\n",
    "below 50|80|60|140|280\n",
    "Totals\t|234|\t207\t|441|882"
   ]
  },
  {
   "cell_type": "code",
   "execution_count": 95,
   "metadata": {
    "collapsed": false
   },
   "outputs": [
    {
     "name": "stdout",
     "output_type": "stream",
     "text": [
      "V=: 0.0787395023528\n",
      "V=: 0.0394407510032\n"
     ]
    }
   ],
   "source": [
    "#for location\n",
    "import numpy as np\n",
    "Location=np.array([[20,40,60],[134,107,241],[80,60,140]])\n",
    "#print  chi2_contingency(Location)[0]\n",
    "print \"V=:\", np.sqrt(chi2_contingency(np.array([[20,40,60],[134,107,241],[80,60,140]]))[0]/(882*2))\n",
    "\n",
    "\n",
    "#for age\n",
    "#print chi2_contingency(np.array([[154,147,301],[80,60,140]]))[0] \n",
    "print \"V=:\", np.sqrt(chi2_contingency(np.array([[154,147,301],[80,60,140]]))[0] /882*1)\n"
   ]
  },
  {
   "cell_type": "markdown",
   "metadata": {},
   "source": [
    "Can we say age has stronger association with party categories than location?"
   ]
  },
  {
   "cell_type": "markdown",
   "metadata": {},
   "source": [
    "Cramer's V ($V$): Standardized Chi-square($\\chi^2$)\n",
    "$$\n",
    "V=\\sqrt{\\frac{\\chi^2}{n\\times min(r-1,c-1)}}\n",
    "$$\n",
    "- r: number of rows\n",
    "- c:number of columns\n",
    "- n: sample size\n",
    "\n",
    "Cramer's V takes values between 0 and 1. "
   ]
  },
  {
   "cell_type": "markdown",
   "metadata": {},
   "source": [
    "**Practice: Feature Selection**\n",
    "Among $x_1,x_2,x_3,x_4,x_5$, find the variable which is strongly associated with $y$, where "
   ]
  },
  {
   "cell_type": "code",
   "execution_count": 78,
   "metadata": {
    "collapsed": false
   },
   "outputs": [
    {
     "name": "stdout",
     "output_type": "stream",
     "text": [
      "[1 1 1 1 1 0 0 1 0 0 1 1 0 0 1 0 1 0 1 1 0 0 1 0 1 1 0 0 0 1 0 0 0 1 1 0 0\n",
      " 0 0 0 0 1 0 1 0 0 0 1 1 1 0 1 1 1 1 1 0 0 0 0 0 0 1 1 0 0 0 0 0 0 1 0 0 0\n",
      " 0 0 1 0 1 0 1 0 1 0 1 1 1 1 1 0 0 1 1 0 0 0 0 1 0 0]\n"
     ]
    }
   ],
   "source": [
    "[x1,x2,x3,x4,x5]=np.random.randint(2,size=(5,100))\n",
    "print x5"
   ]
  },
  {
   "cell_type": "code",
   "execution_count": 80,
   "metadata": {
    "collapsed": false
   },
   "outputs": [
    {
     "name": "stdout",
     "output_type": "stream",
     "text": [
      "[0 2 3 0 0 3 2 0 3 0 5 2 5 0 3 0 2 5 0 0 2 0 2 0 0 3 5 5 5 3 3 5 3 2 2 0 2\n",
      " 3 0 0 3 0 2 0 0 2 0 3 3 3 5 0 2 2 0 5 5 0 0 2 0 5 5 2 2 0 0 5 2 3 5 5 5 2\n",
      " 2 2 0 0 5 0 2 5 2 0 0 5 2 5 3 2 0 2 5 3 5 5 5 2 2 5]\n"
     ]
    }
   ],
   "source": [
    "y=3*x1+2*x2\n",
    "print y"
   ]
  },
  {
   "cell_type": "code",
   "execution_count": 89,
   "metadata": {
    "collapsed": false
   },
   "outputs": [
    {
     "name": "stdout",
     "output_type": "stream",
     "text": [
      "association of x1 with y= 100.0\n",
      "association of x2 with y= 100.0\n",
      "association of x3 with y= 0.77864479125\n",
      "association of x4 with y= 4.13224841003\n",
      "association of x5 with y= 2.49085785091\n"
     ]
    }
   ],
   "source": [
    "Table=pd.crosstab(x1,y)\n",
    "Table2=pd.crosstab(x2,y)\n",
    "print \"association of x1 with y=\",chi2_contingency(Table)[0]\n",
    "print \"association of x2 with y=\",chi2_contingency(Table2)[0]\n",
    "print \"association of x3 with y=\",chi2_contingency(pd.crosstab(x3,y))[0]\n",
    "print \"association of x4 with y=\",chi2_contingency(pd.crosstab(x4,y))[0]\n",
    "print \"association of x5 with y=\",chi2_contingency(pd.crosstab(x5,y))[0]"
   ]
  },
  {
   "cell_type": "markdown",
   "metadata": {},
   "source": [
    "### 1.3.2 Numerical variables"
   ]
  },
  {
   "cell_type": "markdown",
   "metadata": {},
   "source": [
    "#### Covariance \n",
    "\n",
    "$$Population:~Cov(X,Y)=\\frac{\\sum_{i=1}^N(X_i-\\mu_X)(Y_i-\\mu_Y)}{N}$$\n",
    " $$sample:~cov(X,Y)=\\frac{\\sum_{i=1}^n(x_i-\\bar{x})(y_i-\\bar{y})}{n-1}$$"
   ]
  },
  {
   "cell_type": "code",
   "execution_count": 52,
   "metadata": {
    "collapsed": false
   },
   "outputs": [
    {
     "data": {
      "text/html": [
       "<div>\n",
       "<table border=\"1\" class=\"dataframe\">\n",
       "  <thead>\n",
       "    <tr style=\"text-align: right;\">\n",
       "      <th></th>\n",
       "      <th>tip</th>\n",
       "      <th>sex</th>\n",
       "      <th>smoker</th>\n",
       "      <th>day</th>\n",
       "      <th>time</th>\n",
       "      <th>size</th>\n",
       "    </tr>\n",
       "    <tr>\n",
       "      <th>total_bill</th>\n",
       "      <th></th>\n",
       "      <th></th>\n",
       "      <th></th>\n",
       "      <th></th>\n",
       "      <th></th>\n",
       "      <th></th>\n",
       "    </tr>\n",
       "  </thead>\n",
       "  <tbody>\n",
       "    <tr>\n",
       "      <th>16.99</th>\n",
       "      <td>1.01</td>\n",
       "      <td>Female</td>\n",
       "      <td>No</td>\n",
       "      <td>Sun</td>\n",
       "      <td>Dinner</td>\n",
       "      <td>2</td>\n",
       "    </tr>\n",
       "    <tr>\n",
       "      <th>10.34</th>\n",
       "      <td>1.66</td>\n",
       "      <td>Male</td>\n",
       "      <td>No</td>\n",
       "      <td>Sun</td>\n",
       "      <td>Dinner</td>\n",
       "      <td>3</td>\n",
       "    </tr>\n",
       "    <tr>\n",
       "      <th>21.01</th>\n",
       "      <td>3.50</td>\n",
       "      <td>Male</td>\n",
       "      <td>No</td>\n",
       "      <td>Sun</td>\n",
       "      <td>Dinner</td>\n",
       "      <td>3</td>\n",
       "    </tr>\n",
       "    <tr>\n",
       "      <th>23.68</th>\n",
       "      <td>3.31</td>\n",
       "      <td>Male</td>\n",
       "      <td>No</td>\n",
       "      <td>Sun</td>\n",
       "      <td>Dinner</td>\n",
       "      <td>2</td>\n",
       "    </tr>\n",
       "    <tr>\n",
       "      <th>24.59</th>\n",
       "      <td>3.61</td>\n",
       "      <td>Female</td>\n",
       "      <td>No</td>\n",
       "      <td>Sun</td>\n",
       "      <td>Dinner</td>\n",
       "      <td>4</td>\n",
       "    </tr>\n",
       "  </tbody>\n",
       "</table>\n",
       "</div>"
      ],
      "text/plain": [
       "             tip     sex smoker  day    time  size\n",
       "total_bill                                        \n",
       "16.99       1.01  Female     No  Sun  Dinner     2\n",
       "10.34       1.66    Male     No  Sun  Dinner     3\n",
       "21.01       3.50    Male     No  Sun  Dinner     3\n",
       "23.68       3.31    Male     No  Sun  Dinner     2\n",
       "24.59       3.61  Female     No  Sun  Dinner     4"
      ]
     },
     "execution_count": 52,
     "metadata": {},
     "output_type": "execute_result"
    }
   ],
   "source": [
    "url='http://ihome.ust.hk/~imwan/index_files/data/tips.csv'\n",
    "df_tips=pd.DataFrame.from_csv(url)\n",
    "df_tips.head()"
   ]
  },
  {
   "cell_type": "code",
   "execution_count": 98,
   "metadata": {
    "collapsed": false
   },
   "outputs": [
    {
     "name": "stdout",
     "output_type": "stream",
     "text": [
      "8.32350162922\n"
     ]
    }
   ],
   "source": [
    "cov_=np.cov(df_tips.index,df_tips[\"tip\"],ddof=1) # output **CoVariance Matrix**\n",
    "print cov_[0,1]\n",
    "cov= cov_[1,0]"
   ]
  },
  {
   "cell_type": "markdown",
   "metadata": {},
   "source": [
    "#### Correlation Coefficient \n",
    "\n",
    "$$Population:~\\rho (X,Y)=\\frac{Cov(X,Y)}{\\sigma_X,\\sigma_Y}$$\n",
    "\n",
    " $$sample:~r(X,Y)=\\frac{cov(x,y)}{s_xs_y}$$\n"
   ]
  },
  {
   "cell_type": "code",
   "execution_count": 99,
   "metadata": {
    "collapsed": false
   },
   "outputs": [
    {
     "data": {
      "text/plain": [
       "array([[ 1.        ,  0.67573411],\n",
       "       [ 0.67573411,  1.        ]])"
      ]
     },
     "execution_count": 99,
     "metadata": {},
     "output_type": "execute_result"
    }
   ],
   "source": [
    "np.corrcoef(df_tips.index,df_tips[\"tip\"],ddof=1)"
   ]
  },
  {
   "cell_type": "code",
   "execution_count": 100,
   "metadata": {
    "collapsed": false
   },
   "outputs": [
    {
     "data": {
      "text/plain": [
       "<matplotlib.collections.PathCollection at 0x7f5e17a6ac90>"
      ]
     },
     "execution_count": 100,
     "metadata": {},
     "output_type": "execute_result"
    },
    {
     "data": {
      "image/png": "[encoded data removed]",
      "text/plain": [
       "<matplotlib.figure.Figure at 0x7f5e17b38ed0>"
      ]
     },
     "metadata": {},
     "output_type": "display_data"
    }
   ],
   "source": [
    "import matplotlib.pyplot as plt\n",
    "plt.figure(figsize=(10,10))\n",
    "plt.scatter(df_tips.index,df_tips[\"tip\"])"
   ]
  },
  {
   "cell_type": "markdown",
   "metadata": {},
   "source": [
    "\n",
    "\n",
    "#### Correctly Evaluate Correlation Coefficient"
   ]
  },
  {
   "cell_type": "code",
   "execution_count": 103,
   "metadata": {
    "collapsed": false
   },
   "outputs": [
    {
     "name": "stdout",
     "output_type": "stream",
     "text": [
      "[  147.75609565   -56.03925237   496.86243858   730.392725    -495.46874223\n",
      " -1350.08083116   478.47483296   455.31147234  -262.32048661  -723.64493913\n",
      "   247.29881666   286.3758316   -679.94970985   300.04951797  -344.98259768\n",
      " -1700.16318924 -1859.47383491 -1151.8404479  -1491.68415552 -1084.94883431\n",
      " -2775.40926893 -1271.70521864  -179.49971525   283.73406496    14.89934681\n",
      "  -809.57105571 -1063.72753934  -944.68954538 -1419.30663286 -1303.15106132\n",
      " -2451.52156265 -1941.68372321 -1068.92106446 -1601.59063866 -1709.57472094\n",
      " -3048.03896234 -1074.14116199 -1275.06283004  -743.50009437    -8.35468734\n",
      " -2315.24951486 -1106.37514501 -1475.74653371  -134.97963256 -2581.58822922\n",
      " -4506.05482865 -1865.24919571 -1403.13275064 -2744.64626966 -1042.01039491\n",
      " -1299.27421292  -132.41855883  -438.32827802  -845.65463711  -788.60547062\n",
      " -3331.25436392 -3430.30305296  1308.47327744  -365.64934381 -2367.10682941\n",
      "   445.49596145 -1172.19874478  -637.9999181  -1441.10293951   100.00746327\n",
      " -1173.81510039 -2804.79652885 -4972.79808647 -1678.83688242 -1121.49962357\n",
      "  -115.82935904 -1470.73931735 -1655.81465584 -2254.27893057  -442.04758612\n",
      " -2725.24032484 -2334.15275337  -365.10915023  -797.74677492  1351.05896504\n",
      "  -208.60576579 -2465.62102263  3086.56662352  -784.15208683   138.97564837\n",
      "  3830.11081228  -914.31221705 -1123.6983413   3629.88463817  -829.10337934\n",
      "  -657.32357144   351.93604961  -452.75826886  -639.5659158  -1817.36525391\n",
      "  -968.53968882  1182.071321    -514.22598914  1959.31560787  1964.4462104 ]\n"
     ]
    }
   ],
   "source": [
    "import matplotlib.pyplot as plt\n",
    "%matplotlib inline\n",
    "x=np.arange(0,100)\n",
    "y=(x+10*np.random.randn(len(x)))**2-80*(x+10*np.random.randn(len(x)))\n",
    "#y=x+np.random.randn(len(x))\n",
    "print y\n"
   ]
  },
  {
   "cell_type": "code",
   "execution_count": 50,
   "metadata": {
    "collapsed": false
   },
   "outputs": [
    {
     "data": {
      "text/plain": [
       "<matplotlib.collections.PathCollection at 0x7f5e4d866b90>"
      ]
     },
     "execution_count": 50,
     "metadata": {},
     "output_type": "execute_result"
    },
    {
     "data": {
      "image/png": "[encoded data removed]",
      "text/plain": [
       "<matplotlib.figure.Figure at 0x7f5e4d8a8710>"
      ]
     },
     "metadata": {},
     "output_type": "display_data"
    }
   ],
   "source": [
    "plt.scatter(x,y)"
   ]
  },
  {
   "cell_type": "code",
   "execution_count": 51,
   "metadata": {
    "collapsed": false
   },
   "outputs": [
    {
     "data": {
      "text/plain": [
       "array([[ 1.        ,  0.38027045],\n",
       "       [ 0.38027045,  1.        ]])"
      ]
     },
     "execution_count": 51,
     "metadata": {},
     "output_type": "execute_result"
    }
   ],
   "source": [
    "np.corrcoef(x,y,ddof=1)"
   ]
  },
  {
   "cell_type": "markdown",
   "metadata": {},
   "source": [
    "**Remark:** When apply Pearson correlation in measuring the strength of association, please draw scatterplot first to find whether they have linear nor non linear pattern. Low correlation coefficient does not necessarily indicates weak association.\n",
    "<img src=\"http://ihome.ust.hk/~imwan/index_files/pic/correlation.png\">"
   ]
  },
  {
   "cell_type": "markdown",
   "metadata": {},
   "source": [
    "### 1.3.3 Association vs. causality\n",
    "[How Ice Cream Kills!](https://www.youtube.com/watch?v=VMUQSMFGBDo)\n",
    "- "
   ]
  },
  {
   "cell_type": "markdown",
   "metadata": {},
   "source": [
    "-  [a spurious relationship, lurking variable (confounding factor)](https://en.wikipedia.org/wiki/Spurious_relationship)"
   ]
  },
  {
   "cell_type": "markdown",
   "metadata": {},
   "source": [
    "To detect lurking variables and find causality, we  need to apply Bayesian network method, which will be covered in next topic. "
   ]
  },
  {
   "cell_type": "code",
   "execution_count": null,
   "metadata": {
    "collapsed": true
   },
   "outputs": [],
   "source": []
  }
 ],
 "metadata": {
  "kernelspec": {
   "display_name": "Python 2",
   "language": "python",
   "name": "python2"
  },
  "language_info": {
   "codemirror_mode": {
    "name": "ipython",
    "version": 2
   },
   "file_extension": ".py",
   "mimetype": "text/x-python",
   "name": "python",
   "nbconvert_exporter": "python",
   "pygments_lexer": "ipython2",
   "version": "2.7.10"
  }
 },
 "nbformat": 4,
 "nbformat_minor": 0
}
